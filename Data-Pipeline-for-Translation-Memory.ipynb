{
 "cells": [
  {
   "cell_type": "code",
   "execution_count": 1,
   "id": "856654b3",
   "metadata": {},
   "outputs": [],
   "source": [
    "\n",
    "\n",
    "from lxml import etree\n",
    "import pandas as pd"
   ]
  },
  {
   "cell_type": "code",
   "execution_count": 2,
   "id": "e8168e7c",
   "metadata": {},
   "outputs": [],
   "source": [
    "# Load and parse the TMX file\n",
    "\n",
    "xml_tree = etree.parse(\"ar-entxt.txt\")\n"
   ]
  },
  {
   "cell_type": "code",
   "execution_count": 3,
   "id": "0db83bee",
   "metadata": {},
   "outputs": [],
   "source": [
    "trans_units = xml_tree.findall(\".//tu\")\n"
   ]
  },
  {
   "cell_type": "code",
   "execution_count": 4,
   "id": "f10f4376",
   "metadata": {},
   "outputs": [],
   "source": [
    "source_texts = []\n",
    "target_texts = []\n",
    "for trans_unit in trans_units:\n",
    "    tuv1 = trans_unit.findall(\".//tuv\")[0]\n",
    "    tuv2 = trans_unit.findall(\".//tuv\")[1]\n",
    "    source = tuv1.findall(\".//seg\")[0]\n",
    "    target = tuv2.findall(\".//seg\")[0]\n",
    "    \n",
    "    source_text = ''.join(source.itertext())\n",
    "    target_text = ''.join(target.itertext())\n",
    "\n",
    "    source_texts.append(source_text)\n",
    "    target_texts.append(target_text)"
   ]
  },
  {
   "cell_type": "code",
   "execution_count": 27,
   "id": "3d11ce69",
   "metadata": {},
   "outputs": [],
   "source": [
    "df = pd.DataFrame(list(zip(source_texts, target_texts)), columns =['Source', 'Target']) "
   ]
  },
  {
   "cell_type": "code",
   "execution_count": 36,
   "id": "1d069d4c",
   "metadata": {},
   "outputs": [
    {
     "data": {
      "text/html": [
       "<div>\n",
       "<style scoped>\n",
       "    .dataframe tbody tr th:only-of-type {\n",
       "        vertical-align: middle;\n",
       "    }\n",
       "\n",
       "    .dataframe tbody tr th {\n",
       "        vertical-align: top;\n",
       "    }\n",
       "\n",
       "    .dataframe thead th {\n",
       "        text-align: right;\n",
       "    }\n",
       "</style>\n",
       "<table border=\"1\" class=\"dataframe\">\n",
       "  <thead>\n",
       "    <tr style=\"text-align: right;\">\n",
       "      <th></th>\n",
       "      <th>Source</th>\n",
       "      <th>Target</th>\n",
       "    </tr>\n",
       "  </thead>\n",
       "  <tbody>\n",
       "    <tr>\n",
       "      <th>0</th>\n",
       "      <td>القرار 55/100</td>\n",
       "      <td>RESOLUTION 55/100</td>\n",
       "    </tr>\n",
       "    <tr>\n",
       "      <th>1</th>\n",
       "      <td>اتخذ في الجلسة العامة 81، المعقودة في 4 كانون ...</td>\n",
       "      <td>Adopted at the 81st plenary meeting, on 4 Dece...</td>\n",
       "    </tr>\n",
       "    <tr>\n",
       "      <th>2</th>\n",
       "      <td>المؤيدون: الاتحاد الروسي، إثيوبيا، الأرجنتين، ...</td>\n",
       "      <td>In favour: Afghanistan, Algeria, Angola, Antig...</td>\n",
       "    </tr>\n",
       "    <tr>\n",
       "      <th>3</th>\n",
       "      <td>الممتنعون: أذربيجان، إسبانيا، أستراليا، إستوني...</td>\n",
       "      <td>Abstentions: Albania, Andorra, Australia, Aust...</td>\n",
       "    </tr>\n",
       "    <tr>\n",
       "      <th>4</th>\n",
       "      <td>55/100- احترام حق الجميع في حرية السفر والأهمي...</td>\n",
       "      <td>55/100. Respect for the right to universal fre...</td>\n",
       "    </tr>\n",
       "    <tr>\n",
       "      <th>...</th>\n",
       "      <td>...</td>\n",
       "      <td>...</td>\n",
       "    </tr>\n",
       "    <tr>\n",
       "      <th>63847</th>\n",
       "      <td>13 - ترحب في هذا الصدد باقتراح برنامج الأمم ال...</td>\n",
       "      <td>13. Welcomes, in this regard, the proposal by ...</td>\n",
       "    </tr>\n",
       "    <tr>\n",
       "      <th>63848</th>\n",
       "      <td>14 - تطلب إلى برنامج الأمم المتحدة الإنمائي أن...</td>\n",
       "      <td>14. Requests the United Nations Development Pr...</td>\n",
       "    </tr>\n",
       "    <tr>\n",
       "      <th>63849</th>\n",
       "      <td>15 - تطلب إلى الأمين العام أن يواصل جهوده في ت...</td>\n",
       "      <td>15. Requests the Secretary-General to continue...</td>\n",
       "    </tr>\n",
       "    <tr>\n",
       "      <th>63850</th>\n",
       "      <td>16 - تطلب إلى منسق الأمم المتحدة للتعاون الدول...</td>\n",
       "      <td>16. Requests the United Nations Coordinator of...</td>\n",
       "    </tr>\n",
       "    <tr>\n",
       "      <th>63851</th>\n",
       "      <td>17 - تطلب إلى الأمين العام أن يقدم إلى الجمعية...</td>\n",
       "      <td>17. Requests the Secretary-General to submit t...</td>\n",
       "    </tr>\n",
       "  </tbody>\n",
       "</table>\n",
       "<p>63852 rows × 2 columns</p>\n",
       "</div>"
      ],
      "text/plain": [
       "                                                  Source  \\\n",
       "0                                          القرار 55/100   \n",
       "1      اتخذ في الجلسة العامة 81، المعقودة في 4 كانون ...   \n",
       "2      المؤيدون: الاتحاد الروسي، إثيوبيا، الأرجنتين، ...   \n",
       "3      الممتنعون: أذربيجان، إسبانيا، أستراليا، إستوني...   \n",
       "4      55/100- احترام حق الجميع في حرية السفر والأهمي...   \n",
       "...                                                  ...   \n",
       "63847  13 - ترحب في هذا الصدد باقتراح برنامج الأمم ال...   \n",
       "63848  14 - تطلب إلى برنامج الأمم المتحدة الإنمائي أن...   \n",
       "63849  15 - تطلب إلى الأمين العام أن يواصل جهوده في ت...   \n",
       "63850  16 - تطلب إلى منسق الأمم المتحدة للتعاون الدول...   \n",
       "63851  17 - تطلب إلى الأمين العام أن يقدم إلى الجمعية...   \n",
       "\n",
       "                                                  Target  \n",
       "0                                      RESOLUTION 55/100  \n",
       "1      Adopted at the 81st plenary meeting, on 4 Dece...  \n",
       "2      In favour: Afghanistan, Algeria, Angola, Antig...  \n",
       "3      Abstentions: Albania, Andorra, Australia, Aust...  \n",
       "4      55/100. Respect for the right to universal fre...  \n",
       "...                                                  ...  \n",
       "63847  13. Welcomes, in this regard, the proposal by ...  \n",
       "63848  14. Requests the United Nations Development Pr...  \n",
       "63849  15. Requests the Secretary-General to continue...  \n",
       "63850  16. Requests the United Nations Coordinator of...  \n",
       "63851  17. Requests the Secretary-General to submit t...  \n",
       "\n",
       "[63852 rows x 2 columns]"
      ]
     },
     "execution_count": 36,
     "metadata": {},
     "output_type": "execute_result"
    }
   ],
   "source": [
    "df"
   ]
  },
  {
   "cell_type": "markdown",
   "id": "3c57b838",
   "metadata": {},
   "source": [
    "# Connect To DataBase"
   ]
  },
  {
   "cell_type": "code",
   "execution_count": 7,
   "id": "ee48e8b5",
   "metadata": {},
   "outputs": [
    {
     "name": "stdout",
     "output_type": "stream",
     "text": [
      "Requirement already satisfied: mysql-connector-python in c:\\users\\sunny\\anaconda3\\lib\\site-packages (8.1.0)\n",
      "Requirement already satisfied: protobuf<=4.21.12,>=4.21.1 in c:\\users\\sunny\\anaconda3\\lib\\site-packages (from mysql-connector-python) (4.21.12)\n",
      "Note: you may need to restart the kernel to use updated packages.\n"
     ]
    }
   ],
   "source": [
    "pip install mysql-connector-python\n"
   ]
  },
  {
   "cell_type": "code",
   "execution_count": 72,
   "id": "eee9b5c4",
   "metadata": {},
   "outputs": [],
   "source": [
    "import mysql.connector\n",
    "\n",
    "mydb = mysql.connector.connect(user='root', password='pass123',\n",
    "                              host='localhost', database='test',\n",
    "                              auth_plugin='mysql_native_password')"
   ]
  },
  {
   "cell_type": "code",
   "execution_count": null,
   "id": "d90679f8",
   "metadata": {},
   "outputs": [],
   "source": []
  },
  {
   "cell_type": "code",
   "execution_count": 81,
   "id": "278900c9",
   "metadata": {},
   "outputs": [],
   "source": [
    "mycursor = mydb.cursor()\n",
    "\n",
    "mycursor.execute(\"CREATE TABLE langauge (Source TEXT, Target TEXT)\")"
   ]
  },
  {
   "cell_type": "code",
   "execution_count": 84,
   "id": "6f927944",
   "metadata": {},
   "outputs": [],
   "source": [
    "for _, row in df.iterrows():\n",
    "    sql = \"INSERT INTO test.langauge(Source, Target) VALUES (%s, %s)\"\n",
    "    mycursor.execute(sql, (row['Source'], row['Target']))\n",
    "    mydb.commit()\n",
    "\n",
    "\n",
    "                               \n",
    "                               \n",
    "                            "
   ]
  },
  {
   "cell_type": "code",
   "execution_count": 75,
   "id": "6ffe1101",
   "metadata": {},
   "outputs": [],
   "source": [
    "\n"
   ]
  },
  {
   "cell_type": "code",
   "execution_count": 68,
   "id": "75e31760",
   "metadata": {},
   "outputs": [],
   "source": []
  },
  {
   "cell_type": "code",
   "execution_count": null,
   "id": "ccb8f955",
   "metadata": {},
   "outputs": [],
   "source": []
  },
  {
   "cell_type": "code",
   "execution_count": null,
   "id": "cdf52455",
   "metadata": {},
   "outputs": [],
   "source": []
  },
  {
   "cell_type": "code",
   "execution_count": null,
   "id": "b6a228be",
   "metadata": {},
   "outputs": [],
   "source": []
  },
  {
   "cell_type": "code",
   "execution_count": null,
   "id": "29056ae2",
   "metadata": {},
   "outputs": [],
   "source": []
  }
 ],
 "metadata": {
  "kernelspec": {
   "display_name": "Python 3 (ipykernel)",
   "language": "python",
   "name": "python3"
  },
  "language_info": {
   "codemirror_mode": {
    "name": "ipython",
    "version": 3
   },
   "file_extension": ".py",
   "mimetype": "text/x-python",
   "name": "python",
   "nbconvert_exporter": "python",
   "pygments_lexer": "ipython3",
   "version": "3.9.13"
  }
 },
 "nbformat": 4,
 "nbformat_minor": 5
}
